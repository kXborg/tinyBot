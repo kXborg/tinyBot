{
 "cells": [
  {
   "cell_type": "code",
   "execution_count": null,
   "id": "11403aad-20a9-4c4b-8640-abe165922a31",
   "metadata": {},
   "outputs": [],
   "source": [
    "# !pip install transformers torch scikit-learn pandas tqdm -q"
   ]
  },
  {
   "cell_type": "code",
   "execution_count": 6,
   "id": "beb13d0b-f8df-4144-be55-9894c6d59699",
   "metadata": {},
   "outputs": [],
   "source": [
    "import pandas as pd\n",
    "import torch\n",
    "from torch.utils.data import Dataset, DataLoader\n",
    "from transformers import DistilBertTokenizer, DistilBertForSequenceClassification\n",
    "from torch.optim import AdamW\n",
    "from sklearn.preprocessing import LabelEncoder\n",
    "from tqdm import tqdm"
   ]
  },
  {
   "cell_type": "code",
   "execution_count": 7,
   "id": "2211e8de-14fc-4ca3-b88c-a492a16bd252",
   "metadata": {},
   "outputs": [],
   "source": [
    "class SmartHomeDataset(Dataset):\n",
    "    def __init__(self, texts, labels, tokenizer, max_len=32):\n",
    "        self.texts = texts\n",
    "        self.labels = labels\n",
    "        self.tokenizer = tokenizer\n",
    "        self.max_len = max_len\n",
    "\n",
    "    def __len__(self):\n",
    "        return len(self.texts)\n",
    "\n",
    "    def __getitem__(self, idx):\n",
    "        text = str(self.texts[idx])\n",
    "        label = self.labels[idx]\n",
    "        encoding = self.tokenizer.encode_plus(\n",
    "            text,\n",
    "            add_special_tokens=True,\n",
    "            max_length=self.max_len,\n",
    "            padding=\"max_length\",\n",
    "            truncation=True,\n",
    "            return_tensors=\"pt\"\n",
    "        )\n",
    "        return {\n",
    "            \"input_ids\": encoding[\"input_ids\"].flatten(),\n",
    "            \"attention_mask\": encoding[\"attention_mask\"].flatten(),\n",
    "            \"labels\": torch.tensor(label, dtype=torch.long)\n",
    "        }"
   ]
  },
  {
   "cell_type": "code",
   "execution_count": 11,
   "id": "c120d657-e6f2-4715-9807-f61546ef7cc5",
   "metadata": {},
   "outputs": [
    {
     "name": "stdout",
     "output_type": "stream",
     "text": [
      "Sample data:\n",
      "    temperature  humidity  light_intensity  noise_level  pir_motion  \\\n",
      "0        39.90     58.62            27.51        75.78           1   \n",
      "1        23.09     66.01            38.71        38.57           0   \n",
      "2        21.88     42.63            91.31        45.39           0   \n",
      "3        32.46     48.93            16.82        60.76           0   \n",
      "4        30.91     82.56            43.90        23.37           1   \n",
      "\n",
      "   person_count door_state window_state  co2_level  gas_leak  smoke_detected  \\\n",
      "0             0     closed         open    1569.88         0               0   \n",
      "1             1       open         open    1270.13         0               1   \n",
      "2             3       open       closed    1558.44         0               1   \n",
      "3             1     closed       closed     907.23         0               0   \n",
      "4             0       open       closed    1155.96         0               0   \n",
      "\n",
      "   rain_detected            voice_command room_type time_of_day  \\\n",
      "0              0  check the phone_charger   kitchen       night   \n",
      "1              0         start the heater   bedroom     morning   \n",
      "2              1       turn on the heater    office       night   \n",
      "3              1         open the curtain   bedroom   afternoon   \n",
      "4              1         start the window   kitchen     evening   \n",
      "\n",
      "          device state             label  \n",
      "0  phone_charger    ON  phone_charger_ON  \n",
      "1         heater    ON         heater_ON  \n",
      "2         heater    ON         heater_ON  \n",
      "3        curtain    ON        curtain_ON  \n",
      "4         window    ON         window_ON  \n"
     ]
    }
   ],
   "source": [
    "# Load Dataset\n",
    "df = pd.read_csv(\"../dataset/smart_home_dataset_v3.csv\")\n",
    "\n",
    "# We'll combine (device + state) into one label\n",
    "df[\"label\"] = df[\"device\"] + \"_\" + df[\"state\"]\n",
    "\n",
    "print(\"Sample data:\\n\", df.head())"
   ]
  },
  {
   "cell_type": "code",
   "execution_count": 13,
   "id": "57947eba-af6d-4b20-937c-ee23a943ed75",
   "metadata": {},
   "outputs": [
    {
     "name": "stdout",
     "output_type": "stream",
     "text": [
      "             voice_command             label  label_id\n",
      "0  check the phone_charger  phone_charger_ON        30\n",
      "1         start the heater         heater_ON        22\n",
      "2       turn on the heater         heater_ON        22\n",
      "3         open the curtain        curtain_ON        10\n",
      "4         start the window         window_ON        38\n"
     ]
    }
   ],
   "source": [
    "# Combine device + state into one label\n",
    "df[\"label\"] = df[\"device\"] + \"_\" + df[\"state\"]\n",
    "\n",
    "# Convert string labels to numeric IDs\n",
    "le = LabelEncoder()\n",
    "df[\"label_id\"] = le.fit_transform(df[\"label\"])\n",
    "\n",
    "print(df[[\"voice_command\", \"label\", \"label_id\"]].head())"
   ]
  },
  {
   "cell_type": "code",
   "execution_count": 15,
   "id": "ada342f7-6684-405c-b556-3c9ded1fc166",
   "metadata": {},
   "outputs": [
    {
     "data": {
      "application/vnd.jupyter.widget-view+json": {
       "model_id": "fb54a92d814046c1ad1a0be8d7403382",
       "version_major": 2,
       "version_minor": 0
      },
      "text/plain": [
       "tokenizer_config.json:   0%|          | 0.00/48.0 [00:00<?, ?B/s]"
      ]
     },
     "metadata": {},
     "output_type": "display_data"
    },
    {
     "data": {
      "application/vnd.jupyter.widget-view+json": {
       "model_id": "e307336556a44eb0b2259f176f4bbfed",
       "version_major": 2,
       "version_minor": 0
      },
      "text/plain": [
       "vocab.txt:   0%|          | 0.00/232k [00:00<?, ?B/s]"
      ]
     },
     "metadata": {},
     "output_type": "display_data"
    },
    {
     "data": {
      "application/vnd.jupyter.widget-view+json": {
       "model_id": "c2f2a2febbea49078cf66b566a4b506a",
       "version_major": 2,
       "version_minor": 0
      },
      "text/plain": [
       "tokenizer.json:   0%|          | 0.00/466k [00:00<?, ?B/s]"
      ]
     },
     "metadata": {},
     "output_type": "display_data"
    },
    {
     "data": {
      "application/vnd.jupyter.widget-view+json": {
       "model_id": "3f9b86b1bb29406596139b34e659d3cd",
       "version_major": 2,
       "version_minor": 0
      },
      "text/plain": [
       "config.json:   0%|          | 0.00/483 [00:00<?, ?B/s]"
      ]
     },
     "metadata": {},
     "output_type": "display_data"
    }
   ],
   "source": [
    "# Tokenization\n",
    "tokenizer = DistilBertTokenizer.from_pretrained(\"distilbert-base-uncased\")"
   ]
  },
  {
   "cell_type": "code",
   "execution_count": 18,
   "id": "e23a377a-ab2b-4af4-be83-aa9bdbf6998a",
   "metadata": {},
   "outputs": [
    {
     "name": "stdout",
     "output_type": "stream",
     "text": [
      "Total unique intents: 39\n"
     ]
    }
   ],
   "source": [
    "num_labels = len(le.classes_)\n",
    "print(f\"Total unique intents: {num_labels}\")"
   ]
  },
  {
   "cell_type": "code",
   "execution_count": 19,
   "id": "6f4c7bd1-04cc-41a0-820e-2379526aa151",
   "metadata": {},
   "outputs": [],
   "source": [
    "# Split dataset\n",
    "train_size = int(0.9 * len(df))\n",
    "train_df, test_df = df[:train_size], df[train_size:]\n",
    "\n",
    "train_data = SmartHomeDataset(train_df[\"voice_command\"], train_df[\"label_id\"], tokenizer)\n",
    "test_data = SmartHomeDataset(test_df[\"voice_command\"], test_df[\"label_id\"], tokenizer)\n",
    "\n",
    "train_loader = DataLoader(train_data, batch_size=16, shuffle=True)\n",
    "test_loader = DataLoader(test_data, batch_size=16)"
   ]
  },
  {
   "cell_type": "code",
   "execution_count": 20,
   "id": "e0f4f40c-1120-43d7-b92c-f0be492cd1c7",
   "metadata": {},
   "outputs": [
    {
     "name": "stderr",
     "output_type": "stream",
     "text": [
      "Xet Storage is enabled for this repo, but the 'hf_xet' package is not installed. Falling back to regular HTTP download. For better performance, install the package with: `pip install huggingface_hub[hf_xet]` or `pip install hf_xet`\n"
     ]
    },
    {
     "data": {
      "application/vnd.jupyter.widget-view+json": {
       "model_id": "bd980a62b1604429bfd94bd70213506c",
       "version_major": 2,
       "version_minor": 0
      },
      "text/plain": [
       "model.safetensors:   0%|          | 0.00/268M [00:00<?, ?B/s]"
      ]
     },
     "metadata": {},
     "output_type": "display_data"
    },
    {
     "name": "stderr",
     "output_type": "stream",
     "text": [
      "Some weights of DistilBertForSequenceClassification were not initialized from the model checkpoint at distilbert-base-uncased and are newly initialized: ['classifier.bias', 'classifier.weight', 'pre_classifier.bias', 'pre_classifier.weight']\n",
      "You should probably TRAIN this model on a down-stream task to be able to use it for predictions and inference.\n",
      "Epoch 1/3: 100%|███████████████████| 282/282 [00:41<00:00,  6.82it/s, loss=0.119]\n"
     ]
    },
    {
     "name": "stdout",
     "output_type": "stream",
     "text": [
      "Average Loss for Epoch 1: 1.1013\n"
     ]
    },
    {
     "name": "stderr",
     "output_type": "stream",
     "text": [
      "Epoch 2/3: 100%|██████████████████| 282/282 [00:40<00:00,  6.92it/s, loss=0.0297]\n"
     ]
    },
    {
     "name": "stdout",
     "output_type": "stream",
     "text": [
      "Average Loss for Epoch 2: 0.0452\n"
     ]
    },
    {
     "name": "stderr",
     "output_type": "stream",
     "text": [
      "Epoch 3/3: 100%|██████████████████| 282/282 [00:36<00:00,  7.66it/s, loss=0.0135]"
     ]
    },
    {
     "name": "stdout",
     "output_type": "stream",
     "text": [
      "Average Loss for Epoch 3: 0.0146\n"
     ]
    },
    {
     "name": "stderr",
     "output_type": "stream",
     "text": [
      "\n"
     ]
    }
   ],
   "source": [
    "# Model Setup\n",
    "device = torch.device(\"cuda\" if torch.cuda.is_available() else \"cpu\")\n",
    "model = DistilBertForSequenceClassification.from_pretrained(\"distilbert-base-uncased\", num_labels=num_labels)\n",
    "model.to(device)\n",
    "\n",
    "optimizer = AdamW(model.parameters(), lr=5e-5)\n",
    "\n",
    "# Training Loop\n",
    "EPOCHS = 3\n",
    "model.train()\n",
    "\n",
    "for epoch in range(EPOCHS):\n",
    "    total_loss = 0\n",
    "    progress = tqdm(train_loader, desc=f\"Epoch {epoch+1}/{EPOCHS}\")\n",
    "    for batch in progress:\n",
    "        input_ids = batch[\"input_ids\"].to(device)\n",
    "        attention_mask = batch[\"attention_mask\"].to(device)\n",
    "        labels = batch[\"labels\"].to(device)\n",
    "\n",
    "        optimizer.zero_grad()\n",
    "        outputs = model(input_ids=input_ids, attention_mask=attention_mask, labels=labels)\n",
    "        loss = outputs.loss\n",
    "        total_loss += loss.item()\n",
    "        loss.backward()\n",
    "        optimizer.step()\n",
    "\n",
    "        progress.set_postfix({\"loss\": loss.item()})\n",
    "\n",
    "    print(f\"Average Loss for Epoch {epoch+1}: {total_loss / len(train_loader):.4f}\")"
   ]
  },
  {
   "cell_type": "code",
   "execution_count": 24,
   "id": "25f89b97-9d21-4e9c-bb0f-67694c75c7cf",
   "metadata": {},
   "outputs": [],
   "source": [
    "# Fix indexes for train/test DataFrames\n",
    "train_df = train_df.reset_index(drop=True)\n",
    "test_df = test_df.reset_index(drop=True)\n",
    "\n",
    "# Recreate dataset + dataloaders\n",
    "train_data = SmartHomeDataset(train_df[\"voice_command\"], train_df[\"label_id\"], tokenizer)\n",
    "test_data = SmartHomeDataset(test_df[\"voice_command\"], test_df[\"label_id\"], tokenizer)\n",
    "\n",
    "train_loader = DataLoader(train_data, batch_size=16, shuffle=True)\n",
    "test_loader = DataLoader(test_data, batch_size=16, shuffle=False)"
   ]
  },
  {
   "cell_type": "code",
   "execution_count": 25,
   "id": "0aff3fc0-04d7-44fd-b97a-377dbeee0b3f",
   "metadata": {},
   "outputs": [
    {
     "name": "stdout",
     "output_type": "stream",
     "text": [
      "Test Accuracy: 100.00%\n"
     ]
    }
   ],
   "source": [
    "# Evaluation\n",
    "model.eval()\n",
    "correct, total = 0, 0\n",
    "\n",
    "with torch.no_grad():\n",
    "    for batch in test_loader:\n",
    "        input_ids = batch[\"input_ids\"].to(device)\n",
    "        attention_mask = batch[\"attention_mask\"].to(device)\n",
    "        labels = batch[\"labels\"].to(device)\n",
    "\n",
    "        outputs = model(input_ids=input_ids, attention_mask=attention_mask)\n",
    "        preds = torch.argmax(outputs.logits, dim=1)\n",
    "        correct += (preds == labels).sum().item()\n",
    "        total += labels.size(0)\n",
    "\n",
    "print(f\"Test Accuracy: {correct / total * 100:.2f}%\")"
   ]
  },
  {
   "cell_type": "code",
   "execution_count": 28,
   "id": "27cdedf2-0d03-4da2-9c2b-bb0bee064ed2",
   "metadata": {},
   "outputs": [],
   "source": [
    "# Inference Function\n",
    "def generate_reply(command):\n",
    "    model.eval()\n",
    "    inputs = tokenizer(command, return_tensors=\"pt\", padding=True, truncation=True, max_length=32).to(device)\n",
    "    outputs = model(**inputs)\n",
    "    pred_label = torch.argmax(outputs.logits, dim=1).item()\n",
    "    decoded = le.inverse_transform([pred_label])[0]\n",
    "    device_name, state = decoded.split(\"_\")\n",
    "    return f\"Okay, turning {state.lower()} the {device_name.replace('_',' ')}.\""
   ]
  },
  {
   "cell_type": "code",
   "execution_count": 29,
   "id": "1ba1dc44-e841-49f6-959e-541a9b31fcd3",
   "metadata": {},
   "outputs": [
    {
     "name": "stdout",
     "output_type": "stream",
     "text": [
      "Okay, turning on the light.\n",
      "Okay, turning on the refrigerator.\n",
      "Okay, turning off the fan.\n",
      "Okay, turning on the geyser.\n",
      "Okay, turning off the door.\n"
     ]
    }
   ],
   "source": [
    "# Test Predictions\n",
    "print(generate_reply(\"Turn on the light\"))\n",
    "print(generate_reply(\"It's too hot\"))\n",
    "print(generate_reply(\"Switch off the fan\"))\n",
    "print(generate_reply(\"Start the geyser\"))\n",
    "print(generate_reply(\"Close the door\"))"
   ]
  }
 ],
 "metadata": {
  "kernelspec": {
   "display_name": "vlm",
   "language": "python",
   "name": "vlm"
  },
  "language_info": {
   "codemirror_mode": {
    "name": "ipython",
    "version": 3
   },
   "file_extension": ".py",
   "mimetype": "text/x-python",
   "name": "python",
   "nbconvert_exporter": "python",
   "pygments_lexer": "ipython3",
   "version": "3.10.18"
  }
 },
 "nbformat": 4,
 "nbformat_minor": 5
}
